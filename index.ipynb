{
  "cells": [
    {
      "cell_type": "raw",
      "metadata": {},
      "source": [
        "---\n",
        "title: Michael Knitz\n",
        "listing:\n",
        "    contents: Posts\n",
        "    sort: \"date desc\"\n",
        "    type: default\n",
        "    categories: true\n",
        "    sort-ui: false\n",
        "    filter-ui: false\n",
        "code-tools: false\n",
        "# page-layout: full\n",
        "# title-block-banner: false\n",
        "---"
      ],
      "id": "53779fc2"
    },
    {
      "cell_type": "markdown",
      "metadata": {},
      "source": [
        "```{css}\n",
        "h1 {\n",
        "    display: none;\n",
        "}\n",
        "```\n",
        "\n",
        "\n",
        "Here's where I'll be posting random things, mostly snippets of R code for learning and future reference.\n",
        "\n",
        "## Posts"
      ],
      "id": "bec1e022"
    }
  ],
  "metadata": {
    "kernelspec": {
      "display_name": "Python 3",
      "language": "python",
      "name": "python3"
    }
  },
  "nbformat": 4,
  "nbformat_minor": 5
}